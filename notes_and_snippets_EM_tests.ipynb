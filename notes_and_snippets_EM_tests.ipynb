{
 "cells": [
  {
   "cell_type": "markdown",
   "id": "125aa09b-ec3f-4a3a-8156-19abc4a1bc61",
   "metadata": {},
   "source": [
    "# Features of EM connectivity that give rise to the \"extended edge of chaos\" phase"
   ]
  },
  {
   "cell_type": "markdown",
   "id": "77c64065-3235-4deb-a3dd-ab57eab3db73",
   "metadata": {},
   "source": [
    "The goal here is to double check and explain the result shown in Fig. 7 b. It looks like the maximal Lyapunov exponent (MLE) hovers around $0$ for a significant range of values of the connectivity gain, roughly from $g=1$ to $g=3$. The MLE estimates look quite noisy there, so the first question we should ask: Is this effect real? We could double check by (a) having a finer mesh of values of $g$ and (b) validating with an alternative method/code for MLE estimation. [COMMENT: I talked to Dana and she seems quite confident in this result. We probably should give these tests a low priority not to delay.]\n",
    "\n",
    "If the effect is real, the next step is to find the features of the EM connectivity matrix that lead to this behavior. Below I list various hypotheses and the correspondng permutation tests.\n",
    "\n",
    "1. *Distribution of (individual) weights.* Weights (including $0$'s for pairs of neurons that are not connected) could be generated independently, all that matters for the emergence of the effect is the distribution of weights. If I understand correctly, this has been tested in the manuscript by permuting all weights in the connectivity matrix. I'm assuming that all entries of the $N$ by $N$ matrix, including the zeroes, were permuted. This permutation seems to have destroyed (or at least attenuated) the effect. \n",
    "\n",
    "2. *Dale's law.* In the EM data each column should have a consistent sign of the weights. This structure is destroyed if we permute all weights. To preserve the identity of each cell (either E or I), we could permute weights within I and E subpopulations. In other words, we first take only columns with nonnegative weights (E) and permute all the entries. We then do the same for the columns with nonpositive weights (I). The hypothesis that Dale's law is responsible for the effect we observe in the Fig. 7b seems unlikely to me. It would have been quite possible if we worked in the E/I balance regime (due to the Bogdanov-Takens bifurcation [1,2]). The data we work with, however, is apparently heavily biased with excitatory cells being strongly underrepresented. This should bring the network far from the E/I balance regime, assuming that the original network was in the balanced regime in the first place.\n",
    "\n",
    "3. *Correlations between $i\\to j$ and $j\\to i$ weights.* According to my preliminary analysis, if these correlations are set at a proper level (could be either negative or positive), the resulting network can be placed at the edge of chaos for a wide range of gains. To test this we could keep pairs of weights $( w_{ij}, w_{ji}) $ and permute these. Assuming no autapses, this corresponds to taking elements of the upper triangular matrix taken from the original connectivity matrix, permuting all its elements, and permuting the corresponding elements in the lower triangular matrix with the same permutation.\n",
    "\n",
    "4. *Small-world or some other structure of outcoming (or incoming) connections.* It's possible that a small subset of neurons send out many strong conenctions and dominate the dynamics of the network. This could, perhaps, lead to the effect we are interested in (although I don't see exactly how). More generally, some features of correlations between weights within of individual neurons may be responsible. To test this, we could permute independently weights in each column (corresponding to outgoing connections of a single neuron) or in each row (corresponding to incoming connections of a single neuron). Note that within-column permutations also preserve Dale's law. \n",
    "\n",
    "5. I feel like Stefan had an idea for yet another permutation test, but I can't remember its details now.\n",
    "\n",
    "[1] Cowan, J. D., Neuman, J., & van Drongelen, W. (2016). Wilson–Cowan equations for neocortical dynamics. The Journal of Mathematical Neuroscience, 6(1), 1-24.\n",
    "\n",
    "[2] Ehsani, M., & Jost, J. (2023). Scale free avalanches in excitatory-inhibitory populations of spiking neurons with conductance based synaptic currents. Journal of Computational Neuroscience, 51(1), 149-172. "
   ]
  }
 ],
 "metadata": {
  "kernelspec": {
   "display_name": "Python 3.10.4 with PyTorch",
   "language": "python",
   "name": "torch"
  },
  "language_info": {
   "codemirror_mode": {
    "name": "ipython",
    "version": 3
   },
   "file_extension": ".py",
   "mimetype": "text/x-python",
   "name": "python",
   "nbconvert_exporter": "python",
   "pygments_lexer": "ipython3",
   "version": "3.10.4"
  }
 },
 "nbformat": 4,
 "nbformat_minor": 5
}
